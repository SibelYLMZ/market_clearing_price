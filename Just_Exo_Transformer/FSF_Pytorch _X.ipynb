{
 "cells": [
  {
   "cell_type": "code",
   "execution_count": 173,
   "metadata": {},
   "outputs": [],
   "source": [
    "import pandas as pd # data processing, CSV file I/O (e.g. pd.read_csv)\n",
    "import warnings\n",
    "import json\n",
    "# from prophet import Prophet\n",
    "import matplotlib.pyplot as plt\n",
    "import seaborn as sns\n",
    "import random\n",
    "#import meteoserver as meteo\n",
    "#from .autonotebook import tqdm as notebook_tqdm\n",
    "from datetime import datetime\n",
    "from pycaret.time_series import *\n",
    "\n",
    "warnings.filterwarnings(\"ignore\")\n",
    "plt.style.use('fivethirtyeight')"
   ]
  },
  {
   "cell_type": "markdown",
   "metadata": {},
   "source": [
    "Train Data Prep"
   ]
  },
  {
   "cell_type": "code",
   "execution_count": 174,
   "metadata": {},
   "outputs": [],
   "source": [
    "df = pd.read_excel('data_train2022-202404.xlsx')\n",
    "df_train = df[(df['ds'] >= '2023-01-01 00:00:00') & (df['ds'] <= '2023-12-31 23:00:00')].reset_index(drop = True)\n",
    "df_train = df_train.rename(columns = {'ptf' : 'y'})\n",
    "df_train['hour'] =  df_train['ds'].dt.hour\n",
    "df_train.set_index('ds', inplace=True)\n",
    "df_train['sun_prod'] = df_train['sun_prod'].astype(float)"
   ]
  },
  {
   "cell_type": "markdown",
   "metadata": {},
   "source": [
    "Test Data Prep"
   ]
  },
  {
   "cell_type": "code",
   "execution_count": 175,
   "metadata": {},
   "outputs": [],
   "source": [
    "df_test =  df[(df['ds'] >= '2024-01-01 00:00:00') & (df['ds'] <= '2024-03-01 23:00:00')].reset_index(drop = True)\n",
    "df_test['hour'] = df_test['ds'].dt.hour"
   ]
  },
  {
   "cell_type": "code",
   "execution_count": 178,
   "metadata": {},
   "outputs": [
    {
     "data": {
      "text/html": [
       "<style type=\"text/css\">\n",
       "#T_590c4_row25_col1 {\n",
       "  background-color: lightgreen;\n",
       "}\n",
       "</style>\n",
       "<table id=\"T_590c4\">\n",
       "  <thead>\n",
       "    <tr>\n",
       "      <th class=\"blank level0\" >&nbsp;</th>\n",
       "      <th id=\"T_590c4_level0_col0\" class=\"col_heading level0 col0\" >Description</th>\n",
       "      <th id=\"T_590c4_level0_col1\" class=\"col_heading level0 col1\" >Value</th>\n",
       "    </tr>\n",
       "  </thead>\n",
       "  <tbody>\n",
       "    <tr>\n",
       "      <th id=\"T_590c4_level0_row0\" class=\"row_heading level0 row0\" >0</th>\n",
       "      <td id=\"T_590c4_row0_col0\" class=\"data row0 col0\" >session_id</td>\n",
       "      <td id=\"T_590c4_row0_col1\" class=\"data row0 col1\" >6670</td>\n",
       "    </tr>\n",
       "    <tr>\n",
       "      <th id=\"T_590c4_level0_row1\" class=\"row_heading level0 row1\" >1</th>\n",
       "      <td id=\"T_590c4_row1_col0\" class=\"data row1 col0\" >Target</td>\n",
       "      <td id=\"T_590c4_row1_col1\" class=\"data row1 col1\" >y</td>\n",
       "    </tr>\n",
       "    <tr>\n",
       "      <th id=\"T_590c4_level0_row2\" class=\"row_heading level0 row2\" >2</th>\n",
       "      <td id=\"T_590c4_row2_col0\" class=\"data row2 col0\" >Approach</td>\n",
       "      <td id=\"T_590c4_row2_col1\" class=\"data row2 col1\" >Univariate</td>\n",
       "    </tr>\n",
       "    <tr>\n",
       "      <th id=\"T_590c4_level0_row3\" class=\"row_heading level0 row3\" >3</th>\n",
       "      <td id=\"T_590c4_row3_col0\" class=\"data row3 col0\" >Exogenous Variables</td>\n",
       "      <td id=\"T_590c4_row3_col1\" class=\"data row3 col1\" >Present</td>\n",
       "    </tr>\n",
       "    <tr>\n",
       "      <th id=\"T_590c4_level0_row4\" class=\"row_heading level0 row4\" >4</th>\n",
       "      <td id=\"T_590c4_row4_col0\" class=\"data row4 col0\" >Original data shape</td>\n",
       "      <td id=\"T_590c4_row4_col1\" class=\"data row4 col1\" >(8760, 16)</td>\n",
       "    </tr>\n",
       "    <tr>\n",
       "      <th id=\"T_590c4_level0_row5\" class=\"row_heading level0 row5\" >5</th>\n",
       "      <td id=\"T_590c4_row5_col0\" class=\"data row5 col0\" >Transformed data shape</td>\n",
       "      <td id=\"T_590c4_row5_col1\" class=\"data row5 col1\" >(8760, 16)</td>\n",
       "    </tr>\n",
       "    <tr>\n",
       "      <th id=\"T_590c4_level0_row6\" class=\"row_heading level0 row6\" >6</th>\n",
       "      <td id=\"T_590c4_row6_col0\" class=\"data row6 col0\" >Transformed train set shape</td>\n",
       "      <td id=\"T_590c4_row6_col1\" class=\"data row6 col1\" >(8736, 16)</td>\n",
       "    </tr>\n",
       "    <tr>\n",
       "      <th id=\"T_590c4_level0_row7\" class=\"row_heading level0 row7\" >7</th>\n",
       "      <td id=\"T_590c4_row7_col0\" class=\"data row7 col0\" >Transformed test set shape</td>\n",
       "      <td id=\"T_590c4_row7_col1\" class=\"data row7 col1\" >(24, 16)</td>\n",
       "    </tr>\n",
       "    <tr>\n",
       "      <th id=\"T_590c4_level0_row8\" class=\"row_heading level0 row8\" >8</th>\n",
       "      <td id=\"T_590c4_row8_col0\" class=\"data row8 col0\" >Rows with missing values</td>\n",
       "      <td id=\"T_590c4_row8_col1\" class=\"data row8 col1\" >0.0%</td>\n",
       "    </tr>\n",
       "    <tr>\n",
       "      <th id=\"T_590c4_level0_row9\" class=\"row_heading level0 row9\" >9</th>\n",
       "      <td id=\"T_590c4_row9_col0\" class=\"data row9 col0\" >Fold Generator</td>\n",
       "      <td id=\"T_590c4_row9_col1\" class=\"data row9 col1\" >ExpandingWindowSplitter</td>\n",
       "    </tr>\n",
       "    <tr>\n",
       "      <th id=\"T_590c4_level0_row10\" class=\"row_heading level0 row10\" >10</th>\n",
       "      <td id=\"T_590c4_row10_col0\" class=\"data row10 col0\" >Fold Number</td>\n",
       "      <td id=\"T_590c4_row10_col1\" class=\"data row10 col1\" >10</td>\n",
       "    </tr>\n",
       "    <tr>\n",
       "      <th id=\"T_590c4_level0_row11\" class=\"row_heading level0 row11\" >11</th>\n",
       "      <td id=\"T_590c4_row11_col0\" class=\"data row11 col0\" >Enforce Prediction Interval</td>\n",
       "      <td id=\"T_590c4_row11_col1\" class=\"data row11 col1\" >False</td>\n",
       "    </tr>\n",
       "    <tr>\n",
       "      <th id=\"T_590c4_level0_row12\" class=\"row_heading level0 row12\" >12</th>\n",
       "      <td id=\"T_590c4_row12_col0\" class=\"data row12 col0\" >Splits used for hyperparameters</td>\n",
       "      <td id=\"T_590c4_row12_col1\" class=\"data row12 col1\" >all</td>\n",
       "    </tr>\n",
       "    <tr>\n",
       "      <th id=\"T_590c4_level0_row13\" class=\"row_heading level0 row13\" >13</th>\n",
       "      <td id=\"T_590c4_row13_col0\" class=\"data row13 col0\" >User Defined Seasonal Period(s)</td>\n",
       "      <td id=\"T_590c4_row13_col1\" class=\"data row13 col1\" >None</td>\n",
       "    </tr>\n",
       "    <tr>\n",
       "      <th id=\"T_590c4_level0_row14\" class=\"row_heading level0 row14\" >14</th>\n",
       "      <td id=\"T_590c4_row14_col0\" class=\"data row14 col0\" >Ignore Seasonality Test</td>\n",
       "      <td id=\"T_590c4_row14_col1\" class=\"data row14 col1\" >False</td>\n",
       "    </tr>\n",
       "    <tr>\n",
       "      <th id=\"T_590c4_level0_row15\" class=\"row_heading level0 row15\" >15</th>\n",
       "      <td id=\"T_590c4_row15_col0\" class=\"data row15 col0\" >Seasonality Detection Algo</td>\n",
       "      <td id=\"T_590c4_row15_col1\" class=\"data row15 col1\" >auto</td>\n",
       "    </tr>\n",
       "    <tr>\n",
       "      <th id=\"T_590c4_level0_row16\" class=\"row_heading level0 row16\" >16</th>\n",
       "      <td id=\"T_590c4_row16_col0\" class=\"data row16 col0\" >Max Period to Consider</td>\n",
       "      <td id=\"T_590c4_row16_col1\" class=\"data row16 col1\" >60</td>\n",
       "    </tr>\n",
       "    <tr>\n",
       "      <th id=\"T_590c4_level0_row17\" class=\"row_heading level0 row17\" >17</th>\n",
       "      <td id=\"T_590c4_row17_col0\" class=\"data row17 col0\" >Seasonal Period(s) Tested</td>\n",
       "      <td id=\"T_590c4_row17_col1\" class=\"data row17 col1\" >[24, 48, 25, 23, 49, 47, 34, 35, 59, 13, 37, 11, 14]</td>\n",
       "    </tr>\n",
       "    <tr>\n",
       "      <th id=\"T_590c4_level0_row18\" class=\"row_heading level0 row18\" >18</th>\n",
       "      <td id=\"T_590c4_row18_col0\" class=\"data row18 col0\" >Significant Seasonal Period(s)</td>\n",
       "      <td id=\"T_590c4_row18_col1\" class=\"data row18 col1\" >[24, 48, 25, 23, 49, 47, 34, 35, 59, 13, 37, 11, 14]</td>\n",
       "    </tr>\n",
       "    <tr>\n",
       "      <th id=\"T_590c4_level0_row19\" class=\"row_heading level0 row19\" >19</th>\n",
       "      <td id=\"T_590c4_row19_col0\" class=\"data row19 col0\" >Significant Seasonal Period(s) without Harmonics</td>\n",
       "      <td id=\"T_590c4_row19_col1\" class=\"data row19 col1\" >[48, 25, 23, 49, 47, 34, 35, 59, 13, 37, 11, 14]</td>\n",
       "    </tr>\n",
       "    <tr>\n",
       "      <th id=\"T_590c4_level0_row20\" class=\"row_heading level0 row20\" >20</th>\n",
       "      <td id=\"T_590c4_row20_col0\" class=\"data row20 col0\" >Remove Harmonics</td>\n",
       "      <td id=\"T_590c4_row20_col1\" class=\"data row20 col1\" >False</td>\n",
       "    </tr>\n",
       "    <tr>\n",
       "      <th id=\"T_590c4_level0_row21\" class=\"row_heading level0 row21\" >21</th>\n",
       "      <td id=\"T_590c4_row21_col0\" class=\"data row21 col0\" >Harmonics Order Method</td>\n",
       "      <td id=\"T_590c4_row21_col1\" class=\"data row21 col1\" >harmonic_max</td>\n",
       "    </tr>\n",
       "    <tr>\n",
       "      <th id=\"T_590c4_level0_row22\" class=\"row_heading level0 row22\" >22</th>\n",
       "      <td id=\"T_590c4_row22_col0\" class=\"data row22 col0\" >Num Seasonalities to Use</td>\n",
       "      <td id=\"T_590c4_row22_col1\" class=\"data row22 col1\" >1</td>\n",
       "    </tr>\n",
       "    <tr>\n",
       "      <th id=\"T_590c4_level0_row23\" class=\"row_heading level0 row23\" >23</th>\n",
       "      <td id=\"T_590c4_row23_col0\" class=\"data row23 col0\" >All Seasonalities to Use</td>\n",
       "      <td id=\"T_590c4_row23_col1\" class=\"data row23 col1\" >[24]</td>\n",
       "    </tr>\n",
       "    <tr>\n",
       "      <th id=\"T_590c4_level0_row24\" class=\"row_heading level0 row24\" >24</th>\n",
       "      <td id=\"T_590c4_row24_col0\" class=\"data row24 col0\" >Primary Seasonality</td>\n",
       "      <td id=\"T_590c4_row24_col1\" class=\"data row24 col1\" >24</td>\n",
       "    </tr>\n",
       "    <tr>\n",
       "      <th id=\"T_590c4_level0_row25\" class=\"row_heading level0 row25\" >25</th>\n",
       "      <td id=\"T_590c4_row25_col0\" class=\"data row25 col0\" >Seasonality Present</td>\n",
       "      <td id=\"T_590c4_row25_col1\" class=\"data row25 col1\" >True</td>\n",
       "    </tr>\n",
       "    <tr>\n",
       "      <th id=\"T_590c4_level0_row26\" class=\"row_heading level0 row26\" >26</th>\n",
       "      <td id=\"T_590c4_row26_col0\" class=\"data row26 col0\" >Seasonality Type</td>\n",
       "      <td id=\"T_590c4_row26_col1\" class=\"data row26 col1\" >add</td>\n",
       "    </tr>\n",
       "    <tr>\n",
       "      <th id=\"T_590c4_level0_row27\" class=\"row_heading level0 row27\" >27</th>\n",
       "      <td id=\"T_590c4_row27_col0\" class=\"data row27 col0\" >Target Strictly Positive</td>\n",
       "      <td id=\"T_590c4_row27_col1\" class=\"data row27 col1\" >False</td>\n",
       "    </tr>\n",
       "    <tr>\n",
       "      <th id=\"T_590c4_level0_row28\" class=\"row_heading level0 row28\" >28</th>\n",
       "      <td id=\"T_590c4_row28_col0\" class=\"data row28 col0\" >Target White Noise</td>\n",
       "      <td id=\"T_590c4_row28_col1\" class=\"data row28 col1\" >No</td>\n",
       "    </tr>\n",
       "    <tr>\n",
       "      <th id=\"T_590c4_level0_row29\" class=\"row_heading level0 row29\" >29</th>\n",
       "      <td id=\"T_590c4_row29_col0\" class=\"data row29 col0\" >Recommended d</td>\n",
       "      <td id=\"T_590c4_row29_col1\" class=\"data row29 col1\" >1</td>\n",
       "    </tr>\n",
       "    <tr>\n",
       "      <th id=\"T_590c4_level0_row30\" class=\"row_heading level0 row30\" >30</th>\n",
       "      <td id=\"T_590c4_row30_col0\" class=\"data row30 col0\" >Recommended Seasonal D</td>\n",
       "      <td id=\"T_590c4_row30_col1\" class=\"data row30 col1\" >0</td>\n",
       "    </tr>\n",
       "    <tr>\n",
       "      <th id=\"T_590c4_level0_row31\" class=\"row_heading level0 row31\" >31</th>\n",
       "      <td id=\"T_590c4_row31_col0\" class=\"data row31 col0\" >Preprocess</td>\n",
       "      <td id=\"T_590c4_row31_col1\" class=\"data row31 col1\" >False</td>\n",
       "    </tr>\n",
       "    <tr>\n",
       "      <th id=\"T_590c4_level0_row32\" class=\"row_heading level0 row32\" >32</th>\n",
       "      <td id=\"T_590c4_row32_col0\" class=\"data row32 col0\" >CPU Jobs</td>\n",
       "      <td id=\"T_590c4_row32_col1\" class=\"data row32 col1\" >-1</td>\n",
       "    </tr>\n",
       "    <tr>\n",
       "      <th id=\"T_590c4_level0_row33\" class=\"row_heading level0 row33\" >33</th>\n",
       "      <td id=\"T_590c4_row33_col0\" class=\"data row33 col0\" >Use GPU</td>\n",
       "      <td id=\"T_590c4_row33_col1\" class=\"data row33 col1\" >False</td>\n",
       "    </tr>\n",
       "    <tr>\n",
       "      <th id=\"T_590c4_level0_row34\" class=\"row_heading level0 row34\" >34</th>\n",
       "      <td id=\"T_590c4_row34_col0\" class=\"data row34 col0\" >Log Experiment</td>\n",
       "      <td id=\"T_590c4_row34_col1\" class=\"data row34 col1\" >False</td>\n",
       "    </tr>\n",
       "    <tr>\n",
       "      <th id=\"T_590c4_level0_row35\" class=\"row_heading level0 row35\" >35</th>\n",
       "      <td id=\"T_590c4_row35_col0\" class=\"data row35 col0\" >Experiment Name</td>\n",
       "      <td id=\"T_590c4_row35_col1\" class=\"data row35 col1\" >ts-default-name</td>\n",
       "    </tr>\n",
       "    <tr>\n",
       "      <th id=\"T_590c4_level0_row36\" class=\"row_heading level0 row36\" >36</th>\n",
       "      <td id=\"T_590c4_row36_col0\" class=\"data row36 col0\" >USI</td>\n",
       "      <td id=\"T_590c4_row36_col1\" class=\"data row36 col1\" >3566</td>\n",
       "    </tr>\n",
       "  </tbody>\n",
       "</table>\n"
      ],
      "text/plain": [
       "<pandas.io.formats.style.Styler at 0x23ac6abe460>"
      ]
     },
     "metadata": {},
     "output_type": "display_data"
    }
   ],
   "source": [
    "fh = 1*24 \n",
    "fold = 10\n",
    "s = setup(df_train, target = 'y', fold = fold, fh = fh)"
   ]
  },
  {
   "cell_type": "code",
   "execution_count": 179,
   "metadata": {},
   "outputs": [],
   "source": [
    "# exog_vars = ['y','sun_prod', 'wind_prod', 'baraj_prod', 'waterfall_prod',\n",
    "#        'dayofmonth', 'dayofweek', 'quarter', 'month', 'year', 'dayofyear',\n",
    "#        'weekofyear', 'holiday', 'is_holiday_lead_2', 'hour']\n",
    "\n",
    "# data = df_train[exog_vars]\n",
    "\n",
    "# data['sun_prod'] = data['sun_prod'].astype('float64')\n",
    "# data.info()"
   ]
  },
  {
   "cell_type": "code",
   "execution_count": 180,
   "metadata": {},
   "outputs": [
    {
     "data": {
      "text/html": [
       "<div>\n",
       "<style scoped>\n",
       "    .dataframe tbody tr th:only-of-type {\n",
       "        vertical-align: middle;\n",
       "    }\n",
       "\n",
       "    .dataframe tbody tr th {\n",
       "        vertical-align: top;\n",
       "    }\n",
       "\n",
       "    .dataframe thead th {\n",
       "        text-align: right;\n",
       "    }\n",
       "</style>\n",
       "<table border=\"1\" class=\"dataframe\">\n",
       "  <thead>\n",
       "    <tr style=\"text-align: right;\">\n",
       "      <th></th>\n",
       "      <th></th>\n",
       "      <th></th>\n",
       "    </tr>\n",
       "    <tr>\n",
       "      <th></th>\n",
       "      <th></th>\n",
       "      <th></th>\n",
       "    </tr>\n",
       "  </thead>\n",
       "  <tbody>\n",
       "    <tr>\n",
       "      <th>Initiated</th>\n",
       "      <td>. . . . . . . . . . . . . . . . . .</td>\n",
       "      <td>11:42:48</td>\n",
       "    </tr>\n",
       "    <tr>\n",
       "      <th>Status</th>\n",
       "      <td>. . . . . . . . . . . . . . . . . .</td>\n",
       "      <td>Fitting 10 Folds</td>\n",
       "    </tr>\n",
       "    <tr>\n",
       "      <th>Estimator</th>\n",
       "      <td>. . . . . . . . . . . . . . . . . .</td>\n",
       "      <td>Linear w/ Cond. Deseasonalize &amp; Detrending</td>\n",
       "    </tr>\n",
       "  </tbody>\n",
       "</table>\n",
       "</div>"
      ],
      "text/plain": [
       "                                                \\\n",
       "                                                 \n",
       "Initiated  . . . . . . . . . . . . . . . . . .   \n",
       "Status     . . . . . . . . . . . . . . . . . .   \n",
       "Estimator  . . . . . . . . . . . . . . . . . .   \n",
       "\n",
       "                                                       \n",
       "                                                       \n",
       "Initiated                                    11:42:48  \n",
       "Status                               Fitting 10 Folds  \n",
       "Estimator  Linear w/ Cond. Deseasonalize & Detrending  "
      ]
     },
     "metadata": {},
     "output_type": "display_data"
    },
    {
     "data": {
      "text/html": [
       "<style type=\"text/css\">\n",
       "#T_7be4b th {\n",
       "  text-align: left;\n",
       "}\n",
       "#T_7be4b_row0_col0, #T_7be4b_row0_col1, #T_7be4b_row0_col2, #T_7be4b_row0_col3, #T_7be4b_row0_col4, #T_7be4b_row0_col5, #T_7be4b_row0_col6, #T_7be4b_row0_col7, #T_7be4b_row0_col8, #T_7be4b_row1_col0, #T_7be4b_row1_col1, #T_7be4b_row1_col2, #T_7be4b_row1_col3, #T_7be4b_row1_col4, #T_7be4b_row1_col5, #T_7be4b_row1_col6, #T_7be4b_row1_col7, #T_7be4b_row1_col8 {\n",
       "  text-align: left;\n",
       "}\n",
       "</style>\n",
       "<table id=\"T_7be4b\">\n",
       "  <thead>\n",
       "    <tr>\n",
       "      <th class=\"blank level0\" >&nbsp;</th>\n",
       "      <th id=\"T_7be4b_level0_col0\" class=\"col_heading level0 col0\" >Model</th>\n",
       "      <th id=\"T_7be4b_level0_col1\" class=\"col_heading level0 col1\" >MASE</th>\n",
       "      <th id=\"T_7be4b_level0_col2\" class=\"col_heading level0 col2\" >RMSSE</th>\n",
       "      <th id=\"T_7be4b_level0_col3\" class=\"col_heading level0 col3\" >MAE</th>\n",
       "      <th id=\"T_7be4b_level0_col4\" class=\"col_heading level0 col4\" >RMSE</th>\n",
       "      <th id=\"T_7be4b_level0_col5\" class=\"col_heading level0 col5\" >MAPE</th>\n",
       "      <th id=\"T_7be4b_level0_col6\" class=\"col_heading level0 col6\" >SMAPE</th>\n",
       "      <th id=\"T_7be4b_level0_col7\" class=\"col_heading level0 col7\" >R2</th>\n",
       "      <th id=\"T_7be4b_level0_col8\" class=\"col_heading level0 col8\" >TT (Sec)</th>\n",
       "    </tr>\n",
       "  </thead>\n",
       "  <tbody>\n",
       "    <tr>\n",
       "      <th id=\"T_7be4b_level0_row0\" class=\"row_heading level0 row0\" >auto_arima</th>\n",
       "      <td id=\"T_7be4b_row0_col0\" class=\"data row0 col0\" >Auto ARIMA</td>\n",
       "      <td id=\"T_7be4b_row0_col1\" class=\"data row0 col1\" >1.1187</td>\n",
       "      <td id=\"T_7be4b_row0_col2\" class=\"data row0 col2\" >0.8649</td>\n",
       "      <td id=\"T_7be4b_row0_col3\" class=\"data row0 col3\" >408.4110</td>\n",
       "      <td id=\"T_7be4b_row0_col4\" class=\"data row0 col4\" >473.5871</td>\n",
       "      <td id=\"T_7be4b_row0_col5\" class=\"data row0 col5\" >0.1862</td>\n",
       "      <td id=\"T_7be4b_row0_col6\" class=\"data row0 col6\" >0.2096</td>\n",
       "      <td id=\"T_7be4b_row0_col7\" class=\"data row0 col7\" >-0.1376</td>\n",
       "      <td id=\"T_7be4b_row0_col8\" class=\"data row0 col8\" >0.5500</td>\n",
       "    </tr>\n",
       "    <tr>\n",
       "      <th id=\"T_7be4b_level0_row1\" class=\"row_heading level0 row1\" >croston</th>\n",
       "      <td id=\"T_7be4b_row1_col0\" class=\"data row1 col0\" >Croston</td>\n",
       "      <td id=\"T_7be4b_row1_col1\" class=\"data row1 col1\" >1.1265</td>\n",
       "      <td id=\"T_7be4b_row1_col2\" class=\"data row1 col2\" >0.9184</td>\n",
       "      <td id=\"T_7be4b_row1_col3\" class=\"data row1 col3\" >411.2163</td>\n",
       "      <td id=\"T_7be4b_row1_col4\" class=\"data row1 col4\" >502.8231</td>\n",
       "      <td id=\"T_7be4b_row1_col5\" class=\"data row1 col5\" >0.2455</td>\n",
       "      <td id=\"T_7be4b_row1_col6\" class=\"data row1 col6\" >0.2078</td>\n",
       "      <td id=\"T_7be4b_row1_col7\" class=\"data row1 col7\" >-0.1993</td>\n",
       "      <td id=\"T_7be4b_row1_col8\" class=\"data row1 col8\" >0.0260</td>\n",
       "    </tr>\n",
       "  </tbody>\n",
       "</table>\n"
      ],
      "text/plain": [
       "<pandas.io.formats.style.Styler at 0x23ac5fa0e80>"
      ]
     },
     "metadata": {},
     "output_type": "display_data"
    },
    {
     "data": {
      "application/vnd.jupyter.widget-view+json": {
       "model_id": "bf8b1cc07fb14bbab34635b0a08154e2",
       "version_major": 2,
       "version_minor": 0
      },
      "text/plain": [
       "Processing:   0%|          | 0/83 [00:00<?, ?it/s]"
      ]
     },
     "metadata": {},
     "output_type": "display_data"
    }
   ],
   "source": [
    "best_mape_models_top3 = compare_models(sort = 'MAPE', n_select = 3)\n",
    "pull(best_mape_models_top3)"
   ]
  },
  {
   "cell_type": "code",
   "execution_count": null,
   "metadata": {},
   "outputs": [],
   "source": [
    "ensemble_ts = blend_models(best_mape_models_top3)\n",
    "pull(ensemble_ts)"
   ]
  },
  {
   "cell_type": "markdown",
   "metadata": {},
   "source": [
    "Final Ensemble Models"
   ]
  },
  {
   "cell_type": "code",
   "execution_count": null,
   "metadata": {},
   "outputs": [],
   "source": [
    "final_ensemble = finalize_model(ensemble_ts)\n",
    "final_ensemble"
   ]
  },
  {
   "cell_type": "code",
   "execution_count": null,
   "metadata": {},
   "outputs": [],
   "source": [
    "exog_vars = ['sun_prod', 'wind_prod', 'baraj_prod', 'waterfall_prod',\n",
    "       'dayofmonth', 'dayofweek', 'quarter', 'month', 'year', 'dayofyear',\n",
    "       'weekofyear', 'holiday', 'is_holiday_lead_2', 'hour']\n",
    "\n",
    "data = df_train[exog_vars]"
   ]
  },
  {
   "cell_type": "code",
   "execution_count": null,
   "metadata": {},
   "outputs": [],
   "source": [
    "exog_exps = []\n",
    "target = df_train['y']\n",
    "exog_models = []\n",
    "for exog_var in exog_vars:\n",
    "    exog_exp = TSForecastingExperiment()\n",
    "    exog_exp.setup(\n",
    "        data=data[exog_var], fh=10)\n",
    "\n",
    "    # Users can customize how to model future exogenous variables i.e. add\n",
    "    # more steps and models to potentially get better models at the expense\n",
    "    # of higher modeling time.\n",
    "    best = exog_exp.compare_models(\n",
    "        sort=\"mase\"#, include=[\"br_cds_dt\", \"en_cds_dt\", \"lar_cds_dt\", \"ridge_cds_dt\", \"lightgbm_cds_dt\", \"arima\", \"theta\"]      \n",
    "    )\n",
    "    final_exog_model = exog_exp.finalize_model(best)\n",
    "\n",
    "    exog_exps.append(exog_exp)\n",
    "    exog_models.append(final_exog_model)\n",
    "\n",
    "# Step 2: Get future predictions for exog variables ----\n",
    "future_exog = [\n",
    "    exog_exp.predict_model(exog_model)\n",
    "    for exog_exp, exog_model in zip(exog_exps, exog_models)\n",
    "]\n",
    "future_exog = pd.concat(future_exog, axis=1)\n",
    "future_exog.columns = exog_vars"
   ]
  },
  {
   "cell_type": "code",
   "execution_count": null,
   "metadata": {},
   "outputs": [],
   "source": [
    "exp_future = TSForecastingExperiment()\n",
    "final_slim_model = final_ensemble\n",
    "future_preds = exp_future.predict_model(final_slim_model, X=future_exog)"
   ]
  },
  {
   "cell_type": "code",
   "execution_count": null,
   "metadata": {},
   "outputs": [],
   "source": [
    "future_preds.index.name = 'ds'\n",
    "future_preds = future_preds.reset_index()\n",
    "future_preds"
   ]
  },
  {
   "cell_type": "code",
   "execution_count": null,
   "metadata": {},
   "outputs": [],
   "source": [
    "df_actual = df_test[['ds', 'ptf']]\n",
    "df_actual = df_actual[df_actual['ds']<'2024-01-02 00:00:00']\n",
    "# df_actual.set_index('ds', inplace=True)"
   ]
  },
  {
   "cell_type": "code",
   "execution_count": null,
   "metadata": {},
   "outputs": [],
   "source": [
    "total_error = abs(df_actual['ptf'] - future_preds['y_pred']).sum()\n",
    "total_y = df_actual['ptf'].sum()\n",
    "wMAPE = total_error / total_y\n",
    "wMAPE"
   ]
  },
  {
   "cell_type": "code",
   "execution_count": null,
   "metadata": {},
   "outputs": [],
   "source": [
    "exo_test = df_test[['sun_prod', 'wind_prod', 'baraj_prod', 'waterfall_prod', 'dayofmonth',\n",
    "       'dayofweek', 'quarter', 'month', 'year', 'dayofyear', 'weekofyear',\n",
    "       'holiday', 'is_holiday_lead_2', 'hour']]\n",
    "exo_test = exo_test[:10]\n",
    "exo_test"
   ]
  },
  {
   "cell_type": "code",
   "execution_count": null,
   "metadata": {},
   "outputs": [],
   "source": [
    "exo_test_feature = exo_test [['sun_prod', 'wind_prod', 'baraj_prod', 'waterfall_prod']]\n",
    "future_exog_feature = future_exog[['sun_prod', 'wind_prod', 'baraj_prod', 'waterfall_prod']]"
   ]
  },
  {
   "cell_type": "markdown",
   "metadata": {},
   "source": [
    "wMAPE For Exogenous"
   ]
  },
  {
   "cell_type": "code",
   "execution_count": null,
   "metadata": {},
   "outputs": [],
   "source": [
    "errors = abs(exo_test_feature- future_exog_feature)\n",
    "\n",
    "# Toplam hataları ve toplam y değerlerini hesaplayın\n",
    "total_errors = errors.sum()\n",
    "total_y = exo_test_feature.sum()\n",
    "\n",
    "# wMAPE hesaplaması\n",
    "wMAPE = total_errors / total_y\n",
    "\n",
    "print(\"wMAPE:\\n\", wMAPE)"
   ]
  },
  {
   "cell_type": "markdown",
   "metadata": {},
   "source": [
    "Future Exogenous Forecasting"
   ]
  },
  {
   "cell_type": "code",
   "execution_count": null,
   "metadata": {},
   "outputs": [],
   "source": [
    "future_exog = future_exog.reset_index()\n",
    "exo_test['ds'] = future_exog['index'].rename('ds')\n",
    "\n",
    "exo_test['ds'] = exo_test['ds'].dt.to_timestamp()\n",
    "\n",
    "exo_test = exo_test.drop(columns='ds')\n"
   ]
  }
 ],
 "metadata": {
  "kernelspec": {
   "display_name": "ptf_mix",
   "language": "python",
   "name": "python3"
  },
  "language_info": {
   "codemirror_mode": {
    "name": "ipython",
    "version": 3
   },
   "file_extension": ".py",
   "mimetype": "text/x-python",
   "name": "python",
   "nbconvert_exporter": "python",
   "pygments_lexer": "ipython3",
   "version": "3.9.19"
  }
 },
 "nbformat": 4,
 "nbformat_minor": 2
}
